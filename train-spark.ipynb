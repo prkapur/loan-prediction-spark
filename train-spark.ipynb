{
 "cells": [
  {
   "cell_type": "code",
   "execution_count": null,
   "metadata": {},
   "outputs": [],
   "source": [
    "# Add Origination Date and first payment data to check if the AUC improves"
   ]
  },
  {
   "cell_type": "code",
   "execution_count": 1,
   "metadata": {},
   "outputs": [],
   "source": [
    "import findspark\n",
    "findspark.init()"
   ]
  },
  {
   "cell_type": "code",
   "execution_count": 2,
   "metadata": {},
   "outputs": [],
   "source": [
    "from pyspark.sql import SparkSession\n",
    "from pyspark.ml.feature import VectorAssembler, VectorIndexer, OneHotEncoder, StringIndexer, OneHotEncoderEstimator\n",
    "from pyspark.ml.classification import LogisticRegression\n",
    "from pyspark.ml import Pipeline\n",
    "from pyspark.ml.evaluation import BinaryClassificationEvaluator\n",
    "from pyspark.sql.types import IntegerType,DoubleType"
   ]
  },
  {
   "cell_type": "code",
   "execution_count": 3,
   "metadata": {},
   "outputs": [],
   "source": [
    "spark = SparkSession.builder.appName(\"Train\").getOrCreate()"
   ]
  },
  {
   "cell_type": "code",
   "execution_count": 10,
   "metadata": {},
   "outputs": [],
   "source": [
    "# df = spark.read.option(\"sep\",\",\").parquet(\"parquet/*.parquet\")\n",
    "df = spark.read.load(\"parquet/*.parquet\",sep=\",\",inferSchema=\"true\")"
   ]
  },
  {
   "cell_type": "code",
   "execution_count": 11,
   "metadata": {},
   "outputs": [
    {
     "name": "stdout",
     "output_type": "stream",
     "text": [
      "+------------+-------+--------------------+-------------+-------+---------+----------------+------------------+---+----+--------------+---+---------------------+--------------------+------------+-------------+----------+----------------+--------------+---+--------------------+------------+------------------------+-------------------+------------------+-----------------+----------------+------------------+\n",
      "|          id|channel|              seller|interest_rate|balance|loan_term|origination_date|first_payment_date|ltv|cltv|borrower_count|dti|borrower_credit_score|first_time_homebuyer|loan_purpose|property_type|unit_count|occupancy_status|property_state|zip|insurance_percentage|product_type|co_borrower_credit_score|first_payment_month|first_payment_year|origination_month|origination_year|foreclosure_status|\n",
      "+------------+-------+--------------------+-------------+-------+---------+----------------+------------------+---+----+--------------+---+---------------------+--------------------+------------+-------------+----------+----------------+--------------+---+--------------------+------------+------------------------+-------------------+------------------+-----------------+----------------+------------------+\n",
      "|100000853384|      R|               OTHER|        4.625| 280000|      360|         02/2012|           04/2012| 31|  31|             1| 23|                  801|                   N|           C|           SF|         1|               I|            CA|945|                   0|         FRM|                       0|                 04|              2012|               02|              02|                 1|\n",
      "|100003735682|      R|SUNTRUST MORTGAGE...|         3.99| 466000|      360|         01/2012|           03/2012| 80|  80|             2| 30|                  794|                   N|           P|           SF|         1|               P|            MD|208|                   0|         FRM|                     788|                 03|              2012|               01|              01|                 1|\n",
      "|100006367485|      C|PHH MORTGAGE CORP...|          4.0| 229000|      360|         02/2012|           04/2012| 67|  67|             2| 36|                  802|                   N|           R|           SF|         1|               P|            CA|959|                   0|         FRM|                     794|                 04|              2012|               02|              02|                 0|\n",
      "|100007267644|      C|               OTHER|        4.125| 154000|      360|         12/2011|           02/2012| 77|  77|             1| 43|                  724|                   N|           R|           CO|         1|               P|            MA|021|                   0|         FRM|                       0|                 02|              2012|               12|              12|                 0|\n",
      "|100007813921|      C|FLAGSTAR CAPITAL ...|        3.875| 152000|      360|         01/2012|           03/2012| 48|  48|             2| 26|                  820|                   N|           R|           PU|         1|               P|            CA|922|                   0|         FRM|                     820|                 03|              2012|               01|              01|                 0|\n",
      "|100009503314|      C|WELLS FARGO BANK,...|         3.75| 320000|      360|         12/2011|           02/2012| 67|  67|             1| 32|                  798|                   N|           P|           PU|         1|               P|            CA|949|                   0|         FRM|                       0|                 02|              2012|               12|              12|                 1|\n",
      "|100009527740|      C|  GMAC MORTGAGE, LLC|         4.25| 260000|      240|         11/2011|           01/2012| 80|  80|             2| 35|                  781|                   N|           R|           SF|         1|               P|            CA|913|                   0|         FRM|                     794|                 01|              2012|               11|              11|                 1|\n",
      "|100010175842|      R|               OTHER|        3.875| 255000|      360|         02/2012|           04/2012| 73|  73|             1| 49|                  778|                   N|           R|           SF|         1|               P|            OH|432|                   0|         FRM|                       0|                 04|              2012|               02|              02|                 0|\n",
      "|100012024351|      C|SUNTRUST MORTGAGE...|        3.375| 235000|      180|         12/2011|           02/2012| 72|  72|             1| 33|                  811|                   N|           R|           PU|         1|               P|            VA|229|                   0|         FRM|                       0|                 02|              2012|               12|              12|                 0|\n",
      "|100013227768|      B|FLAGSTAR CAPITAL ...|        3.875| 415000|      360|         12/2011|           03/2012| 46|  46|             2| 21|                  780|                   N|           R|           PU|         1|               P|            VA|223|                   0|         FRM|                     785|                 03|              2012|               12|              12|                 1|\n",
      "+------------+-------+--------------------+-------------+-------+---------+----------------+------------------+---+----+--------------+---+---------------------+--------------------+------------+-------------+----------+----------------+--------------+---+--------------------+------------+------------------------+-------------------+------------------+-----------------+----------------+------------------+\n",
      "only showing top 10 rows\n",
      "\n"
     ]
    }
   ],
   "source": [
    "df.show(10)"
   ]
  },
  {
   "cell_type": "code",
   "execution_count": 12,
   "metadata": {},
   "outputs": [
    {
     "data": {
      "text/plain": [
       "['id',\n",
       " 'channel',\n",
       " 'seller',\n",
       " 'interest_rate',\n",
       " 'balance',\n",
       " 'loan_term',\n",
       " 'origination_date',\n",
       " 'first_payment_date',\n",
       " 'ltv',\n",
       " 'cltv',\n",
       " 'borrower_count',\n",
       " 'dti',\n",
       " 'borrower_credit_score',\n",
       " 'first_time_homebuyer',\n",
       " 'loan_purpose',\n",
       " 'property_type',\n",
       " 'unit_count',\n",
       " 'occupancy_status',\n",
       " 'property_state',\n",
       " 'zip',\n",
       " 'insurance_percentage',\n",
       " 'product_type',\n",
       " 'co_borrower_credit_score',\n",
       " 'first_payment_month',\n",
       " 'first_payment_year',\n",
       " 'origination_month',\n",
       " 'origination_year',\n",
       " 'foreclosure_status']"
      ]
     },
     "execution_count": 12,
     "metadata": {},
     "output_type": "execute_result"
    }
   ],
   "source": [
    "df.columns"
   ]
  },
  {
   "cell_type": "code",
   "execution_count": 22,
   "metadata": {},
   "outputs": [],
   "source": [
    "df = df.select(\n",
    "\"channel\",\n",
    "\"seller\",\n",
    "\"interest_rate\",\n",
    "\"balance\",\n",
    "\"loan_term\",\n",
    "\"ltv\",\n",
    "\"cltv\",\n",
    "\"borrower_count\",\n",
    "\"dti\",\n",
    "\"borrower_credit_score\",\n",
    "\"first_time_homebuyer\",\n",
    "\"loan_purpose\",\n",
    "\"property_type\",\n",
    "\"unit_count\",\n",
    "\"occupancy_status\",\n",
    "\"property_state\",\n",
    "\"zip\",\n",
    "\"insurance_percentage\",\n",
    "\"foreclosure_status\"\n",
    ")"
   ]
  },
  {
   "cell_type": "code",
   "execution_count": 37,
   "metadata": {},
   "outputs": [],
   "source": [
    "#Move this sc\n",
    "\n",
    "df = df.withColumn(\"interest_rate_double\", df[\"interest_rate\"].cast(DoubleType()))\n",
    "\n",
    "df = df.withColumn(\"balance_double\", df[\"balance\"].cast(DoubleType()))\n",
    "\n",
    "df = df.withColumn(\"loan_term_int\", df[\"loan_term\"].cast(IntegerType()))\n",
    "\n",
    "df = df.withColumn(\"ltv_int\", df[\"ltv\"].cast(IntegerType()))\n",
    "\n",
    "df = df.withColumn(\"cltv_int\", df[\"cltv\"].cast(IntegerType()))\n",
    "\n",
    "df = df.withColumn(\"borrower_count_int\", df[\"borrower_count\"].cast(IntegerType()))\n",
    "\n",
    "df = df.withColumn(\"dti_int\", df[\"dti\"].cast(IntegerType()))\n",
    "\n",
    "df = df.withColumn(\"borrower_credit_score_int\", df[\"borrower_credit_score\"].cast(IntegerType()))\n",
    "\n",
    "df = df.withColumn(\"unit_count_int\", df[\"unit_count\"].cast(IntegerType()))\n",
    "\n",
    "df = df.withColumn(\"zip_int\", df[\"zip\"].cast(IntegerType()))\n",
    "\n",
    "df = df.withColumn(\"insurance_percentage_double\", df[\"insurance_percentage\"].cast(IntegerType()))\n",
    "\n",
    "df = df.withColumn(\"foreclosure_status_int\", df[\"foreclosure_status\"].cast(IntegerType()))"
   ]
  },
  {
   "cell_type": "code",
   "execution_count": 38,
   "metadata": {},
   "outputs": [],
   "source": [
    "channel_indexer = StringIndexer(inputCol = \"channel\", outputCol= \"channel_index\")\n",
    "channel_encoder = OneHotEncoder(inputCol = \"channel_index\", outputCol = \"channelVec\")\n",
    "\n",
    "seller_indexer = StringIndexer(inputCol = \"seller\", outputCol = \"seller_index\")\n",
    "seller_encoder = OneHotEncoder(inputCol = \"seller_index\", outputCol = \"sellerVec\")\n",
    "\n",
    "first_time_homebuyer_indexer = StringIndexer(inputCol = \"first_time_homebuyer\", outputCol = \"first_time_homebuyer_index\")\n",
    "first_time_homebuyer_encoder = OneHotEncoder(inputCol = \"first_time_homebuyer_index\", outputCol = \"firsttimehomebuyerVec\")\n",
    "\n",
    "loan_purpose_indexer = StringIndexer(inputCol = \"loan_purpose\", outputCol = \"loan_purpose_index\")\n",
    "loan_purpose_encoder = OneHotEncoder(inputCol = \"loan_purpose_index\", outputCol = \"loanpurposeVec\")\n",
    "\n",
    "property_type_indexer = StringIndexer(inputCol = \"property_type\", outputCol = \"property_type_index\")\n",
    "property_type_encoder = OneHotEncoder(inputCol = \"property_type_index\", outputCol = \"propertytypeVec\")\n",
    "\n",
    "occupancy_status_indexer = StringIndexer(inputCol = \"occupancy_status\", outputCol = \"occupancy_status_index\")\n",
    "occupancy_status_encoder = OneHotEncoder(inputCol = \"occupancy_status_index\", outputCol = \"occupancystatusVec\")\n",
    "\n",
    "property_state_indexer = StringIndexer(inputCol = \"property_state\", outputCol = \"property_state_index\")\n",
    "property_state_encoder = OneHotEncoder(inputCol = \"property_state_index\", outputCol = \"propertystateVec\")"
   ]
  },
  {
   "cell_type": "code",
   "execution_count": 39,
   "metadata": {},
   "outputs": [],
   "source": [
    "assembler = VectorAssembler(inputCols = ['channelVec','sellerVec','interest_rate_double','balance_double','loan_term_int',\n",
    "                                         'ltv_int','cltv_int','borrower_count_int','dti_int','borrower_credit_score_int',\n",
    "                                         'firsttimehomebuyerVec','loanpurposeVec','propertytypeVec',\n",
    "                                         'unit_count_int', 'occupancystatusVec','propertystateVec',\n",
    "                                         'zip_int','insurance_percentage_double'],outputCol = \"features\")"
   ]
  },
  {
   "cell_type": "code",
   "execution_count": 40,
   "metadata": {},
   "outputs": [],
   "source": [
    "log_reg = LogisticRegression(featuresCol=\"features\",labelCol='foreclosure_status_int')\n",
    "\n",
    "#css = ChiSqSelector(featuresCol='Scaled_features',outputCol='Aspect',labelCol='Outcome',fpr=0.05)"
   ]
  },
  {
   "cell_type": "code",
   "execution_count": 41,
   "metadata": {},
   "outputs": [],
   "source": [
    "pipeline = Pipeline(stages=[channel_indexer, seller_indexer, first_time_homebuyer_indexer, loan_purpose_indexer,\n",
    "                            property_type_indexer, occupancy_status_indexer, property_state_indexer,\n",
    "                            channel_encoder, seller_encoder, first_time_homebuyer_encoder, loan_purpose_encoder,\n",
    "                            property_type_encoder,occupancy_status_encoder,property_state_encoder,\n",
    "                            assembler, log_reg])"
   ]
  },
  {
   "cell_type": "code",
   "execution_count": 42,
   "metadata": {},
   "outputs": [],
   "source": [
    "train_data, test_data = df.randomSplit([0.7,0.3])"
   ]
  },
  {
   "cell_type": "code",
   "execution_count": 43,
   "metadata": {},
   "outputs": [
    {
     "data": {
      "text/plain": [
       "DataFrame[channel: string, seller: string, interest_rate: string, balance: string, loan_term: string, ltv: string, cltv: string, borrower_count: string, dti: string, borrower_credit_score: string, first_time_homebuyer: string, loan_purpose: string, property_type: string, unit_count: string, occupancy_status: string, property_state: string, zip: string, insurance_percentage: string, foreclosure_status: string, interest_rate_double: double, balance_double: double, loan_term_int: int, ltv_int: int, cltv_int: int, borrower_count_int: int, borrower_credit_score_int: int, unit_count_int: int, zip_int: int, insurance_percentage_double: int, foreclosure_status_int: int, dti_int: int]"
      ]
     },
     "execution_count": 43,
     "metadata": {},
     "output_type": "execute_result"
    }
   ],
   "source": [
    "train_data"
   ]
  },
  {
   "cell_type": "code",
   "execution_count": 44,
   "metadata": {},
   "outputs": [],
   "source": [
    "fit_model = pipeline.fit(train_data)"
   ]
  },
  {
   "cell_type": "code",
   "execution_count": 45,
   "metadata": {},
   "outputs": [],
   "source": [
    "results = fit_model.transform(test_data)"
   ]
  },
  {
   "cell_type": "code",
   "execution_count": 51,
   "metadata": {},
   "outputs": [],
   "source": [
    "my_eval = BinaryClassificationEvaluator(rawPredictionCol='prediction',labelCol='foreclosure_status_int')"
   ]
  },
  {
   "cell_type": "code",
   "execution_count": 52,
   "metadata": {},
   "outputs": [
    {
     "name": "stdout",
     "output_type": "stream",
     "text": [
      "+----------------------+----------+\n",
      "|foreclosure_status_int|prediction|\n",
      "+----------------------+----------+\n",
      "|                     1|       1.0|\n",
      "|                     0|       1.0|\n",
      "|                     1|       1.0|\n",
      "|                     0|       1.0|\n",
      "|                     1|       0.0|\n",
      "|                     0|       0.0|\n",
      "|                     0|       0.0|\n",
      "|                     0|       0.0|\n",
      "|                     0|       1.0|\n",
      "|                     1|       1.0|\n",
      "|                     0|       1.0|\n",
      "|                     1|       1.0|\n",
      "|                     0|       1.0|\n",
      "|                     1|       0.0|\n",
      "|                     0|       1.0|\n",
      "|                     1|       1.0|\n",
      "|                     1|       1.0|\n",
      "|                     0|       1.0|\n",
      "|                     0|       1.0|\n",
      "|                     1|       1.0|\n",
      "+----------------------+----------+\n",
      "only showing top 20 rows\n",
      "\n"
     ]
    }
   ],
   "source": [
    "results.select('foreclosure_status_int','prediction').show()"
   ]
  },
  {
   "cell_type": "code",
   "execution_count": 53,
   "metadata": {},
   "outputs": [],
   "source": [
    "AUC = my_eval.evaluate(results)"
   ]
  },
  {
   "cell_type": "code",
   "execution_count": 54,
   "metadata": {},
   "outputs": [
    {
     "data": {
      "text/plain": [
       "0.5910139462220257"
      ]
     },
     "execution_count": 54,
     "metadata": {},
     "output_type": "execute_result"
    }
   ],
   "source": [
    "AUC"
   ]
  },
  {
   "cell_type": "code",
   "execution_count": null,
   "metadata": {},
   "outputs": [],
   "source": []
  }
 ],
 "metadata": {
  "kernelspec": {
   "display_name": "Python 3",
   "language": "python",
   "name": "python3"
  },
  "language_info": {
   "codemirror_mode": {
    "name": "ipython",
    "version": 3
   },
   "file_extension": ".py",
   "mimetype": "text/x-python",
   "name": "python",
   "nbconvert_exporter": "python",
   "pygments_lexer": "ipython3",
   "version": "3.7.0"
  }
 },
 "nbformat": 4,
 "nbformat_minor": 2
}
